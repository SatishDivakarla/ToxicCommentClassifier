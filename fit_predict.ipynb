{
 "cells": [
  {
   "cell_type": "code",
   "execution_count": 1,
   "metadata": {},
   "outputs": [
    {
     "name": "stderr",
     "output_type": "stream",
     "text": [
      "Using TensorFlow backend.\n"
     ]
    }
   ],
   "source": [
    "from toxic.model import get_model\n",
    "from toxic.nltk_utils import tokenize_sentences\n",
    "from toxic.train_utils import train_folds\n",
    "from toxic.embedding_utils import read_embedding_list, clear_embedding_list, convert_tokens_to_ids\n",
    "\n",
    "import argparse\n",
    "import numpy as np\n",
    "import os\n",
    "import pandas as pd"
   ]
  },
  {
   "cell_type": "code",
   "execution_count": 2,
   "metadata": {
    "collapsed": true
   },
   "outputs": [],
   "source": [
    "UNKNOWN_WORD = \"_UNK_\"\n",
    "END_WORD = \"_END_\"\n",
    "NAN_WORD = \"_NAN_\"\n",
    "\n",
    "CLASSES = [\"toxic\", \"severe_toxic\", \"obscene\", \"threat\", \"insult\", \"identity_hate\"]\n",
    "\n",
    "PROBABILITIES_NORMALIZE_COEFFICIENT = 1.4"
   ]
  },
  {
   "cell_type": "code",
   "execution_count": 3,
   "metadata": {},
   "outputs": [
    {
     "name": "stdout",
     "output_type": "stream",
     "text": [
      "Loading data...\n"
     ]
    }
   ],
   "source": [
    "train_file_path = \"/Users/sdivakarla/bbanalytics-telemetry-research/satish/SentimentAnalysis/data/WikiToxicity/KaggleToxicDataset/train.csv\"\n",
    "test_file_path = \"/Users/sdivakarla/bbanalytics-telemetry-research/satish/SentimentAnalysis/data/WikiToxicity/KaggleToxicDataset/test.csv\"\n",
    "embedding_path = \"/Users/sdivakarla/bbanalytics-telemetry-research/satish/SentimentAnalysis/model/crawl/crawl-300d-2M.vec\"\n",
    "print(\"Loading data...\")\n",
    "train_data = pd.read_csv(train_file_path)\n",
    "test_data = pd.read_csv(test_file_path)\n",
    "\n",
    "list_sentences_train = train_data[\"comment_text\"].fillna(NAN_WORD).values\n",
    "list_sentences_test = test_data[\"comment_text\"].fillna(NAN_WORD).values\n",
    "y_train = train_data[CLASSES].values"
   ]
  },
  {
   "cell_type": "code",
   "execution_count": 4,
   "metadata": {},
   "outputs": [
    {
     "name": "stderr",
     "output_type": "stream",
     "text": [
      "  0%|          | 123/159571 [00:00<02:09, 1228.74it/s]"
     ]
    },
    {
     "name": "stdout",
     "output_type": "stream",
     "text": [
      "Tokenizing sentences in train set...\n"
     ]
    },
    {
     "name": "stderr",
     "output_type": "stream",
     "text": [
      "100%|██████████| 159571/159571 [01:48<00:00, 1468.54it/s]\n",
      "  0%|          | 293/153164 [00:00<01:44, 1458.94it/s]"
     ]
    },
    {
     "name": "stdout",
     "output_type": "stream",
     "text": [
      "Tokenizing sentences in test set...\n"
     ]
    },
    {
     "name": "stderr",
     "output_type": "stream",
     "text": [
      "100%|██████████| 153164/153164 [01:39<00:00, 1534.72it/s]\n"
     ]
    }
   ],
   "source": [
    "print(\"Tokenizing sentences in train set...\")\n",
    "tokenized_sentences_train, words_dict = tokenize_sentences(list_sentences_train, {})\n",
    "\n",
    "print(\"Tokenizing sentences in test set...\")\n",
    "tokenized_sentences_test, words_dict = tokenize_sentences(list_sentences_test, words_dict)"
   ]
  },
  {
   "cell_type": "code",
   "execution_count": 5,
   "metadata": {},
   "outputs": [],
   "source": [
    "embedding_path = \"/Users/sdivakarla/bbanalytics-telemetry-research/satish/SentimentAnalysis/model/crawl/crawl-300d-2M.vec\""
   ]
  },
  {
   "cell_type": "code",
   "execution_count": 6,
   "metadata": {},
   "outputs": [
    {
     "name": "stdout",
     "output_type": "stream",
     "text": [
      "/Users/sdivakarla/bbanalytics-telemetry-research/satish/SentimentAnalysis/model/crawl/crawl-300d-2M.vec\n",
      "Loading embeddings...\n"
     ]
    },
    {
     "name": "stderr",
     "output_type": "stream",
     "text": [
      "100%|██████████| 1999999/1999999 [03:07<00:00, 10675.88it/s]\n"
     ]
    }
   ],
   "source": [
    "print(embedding_path)\n",
    "words_dict[UNKNOWN_WORD] = len(words_dict)\n",
    "\n",
    "print(\"Loading embeddings...\")\n",
    "embedding_list, embedding_word_dict = read_embedding_list(file_path=embedding_path)\n",
    "embedding_size = len(embedding_list[0])"
   ]
  },
  {
   "cell_type": "code",
   "execution_count": 7,
   "metadata": {},
   "outputs": [
    {
     "name": "stdout",
     "output_type": "stream",
     "text": [
      "Preparing data...\n"
     ]
    }
   ],
   "source": [
    "print(\"Preparing data...\")\n",
    "embedding_list, embedding_word_dict = clear_embedding_list(embedding_list, embedding_word_dict, words_dict)\n",
    "\n",
    "embedding_word_dict[UNKNOWN_WORD] = len(embedding_word_dict)\n",
    "embedding_list.append([0.] * embedding_size)\n",
    "embedding_word_dict[END_WORD] = len(embedding_word_dict)\n",
    "embedding_list.append([-1.] * embedding_size)\n",
    "\n",
    "embedding_matrix = np.array(embedding_list)"
   ]
  },
  {
   "cell_type": "code",
   "execution_count": 8,
   "metadata": {},
   "outputs": [
    {
     "name": "stdout",
     "output_type": "stream",
     "text": [
      "(170075, 300)\n"
     ]
    }
   ],
   "source": [
    "print(embedding_matrix.shape)"
   ]
  },
  {
   "cell_type": "code",
   "execution_count": 9,
   "metadata": {},
   "outputs": [],
   "source": [
    "sentences_length = 500\n",
    "result_path = \"toxic_results\"\n",
    "batch_size = 256\n",
    "sentences_length = 500\n",
    "recurrent_units=64\n",
    "dropout_rate = 0.3\n",
    "dense_size=32\n",
    "fold_count=10\n",
    "\n",
    "id_to_word = dict((id, word) for word, id in words_dict.items())\n",
    "train_list_of_token_ids = convert_tokens_to_ids(tokenized_sentences_train,id_to_word,\n",
    "                                                embedding_word_dict,sentences_length)\n",
    "test_list_of_token_ids = convert_tokens_to_ids(tokenized_sentences_test,id_to_word,\n",
    "                                               embedding_word_dict,sentences_length)\n",
    "X_train = np.array(train_list_of_token_ids)\n",
    "X_test = np.array(test_list_of_token_ids)"
   ]
  },
  {
   "cell_type": "code",
   "execution_count": null,
   "metadata": {
    "collapsed": true
   },
   "outputs": [],
   "source": [
    "get_model_func = lambda: get_model(\n",
    "    embedding_matrix,\n",
    "    sentences_length,\n",
    "    dropout_rate,\n",
    "    recurrent_units,\n",
    "    dense_size)"
   ]
  },
  {
   "cell_type": "code",
   "execution_count": null,
   "metadata": {},
   "outputs": [
    {
     "name": "stdout",
     "output_type": "stream",
     "text": [
      "Starting to train models...\n",
      "Epoch 1/1\n",
      "143614/143614 [==============================] - 3288s 23ms/step - loss: 0.0648 - acc: 0.9770\n",
      "Epoch 0 loss 0.04540272414923855 best_loss -1\n",
      "Epoch 1/1\n",
      "106752/143614 [=====================>........] - ETA: 15:03 - loss: 0.0445 - acc: 0.9830"
     ]
    }
   ],
   "source": [
    "print(\"Starting to train models...\")\n",
    "models = train_folds(X_train, y_train, fold_count, batch_size, get_model_func)"
   ]
  },
  {
   "cell_type": "code",
   "execution_count": null,
   "metadata": {},
   "outputs": [],
   "source": [
    "result_path = toxic_results\n",
    "if not os.path.exists(result_path):\n",
    "        os.mkdir(result_path)"
   ]
  },
  {
   "cell_type": "code",
   "execution_count": null,
   "metadata": {
    "collapsed": true
   },
   "outputs": [],
   "source": [
    "print(\"Predicting results...\")\n",
    "test_predicts_list = []\n",
    "for fold_id, model in enumerate(models):\n",
    "    model_path = os.path.join(args.result_path, \"model{0}_weights.npy\".format(fold_id))\n",
    "    np.save(model_path, model.get_weights())\n",
    "    test_predicts_path = os.path.join(args.result_path, \"test_predicts{0}.npy\".format(fold_id))\n",
    "    test_predicts = model.predict(X_test, batch_size=args.batch_size)\n",
    "    test_predicts_list.append(test_predicts)\n",
    "    np.save(test_predicts_path, test_predicts)"
   ]
  },
  {
   "cell_type": "code",
   "execution_count": null,
   "metadata": {
    "collapsed": true
   },
   "outputs": [],
   "source": [
    "test_predicts = np.ones(test_predicts_list[0].shape)\n",
    "for fold_predict in test_predicts_list:\n",
    "    test_predicts *= fold_predict\n",
    "    test_predicts **= (1. / len(test_predicts_list))\n",
    "    test_predicts **= PROBABILITIES_NORMALIZE_COEFFICIENT\n",
    "    \n",
    "    test_ids = test_data[\"id\"].values\n",
    "    test_ids = test_ids.reshape((len(test_ids), 1))\n",
    "\n",
    "    test_predicts = pd.DataFrame(data=test_predicts, columns=CLASSES)\n",
    "    test_predicts[\"id\"] = test_ids\n",
    "    test_predicts = test_predicts[[\"id\"] + CLASSES]\n",
    "    submit_path = os.path.join(args.result_path, \"submit\")\n",
    "    test_predicts.to_csv(submit_path, index=False)"
   ]
  }
 ],
 "metadata": {
  "kernelspec": {
   "display_name": "Python 3",
   "language": "python",
   "name": "python3"
  },
  "language_info": {
   "codemirror_mode": {
    "name": "ipython",
    "version": 3.0
   },
   "file_extension": ".py",
   "mimetype": "text/x-python",
   "name": "python",
   "nbconvert_exporter": "python",
   "pygments_lexer": "ipython3",
   "version": "3.5.4"
  }
 },
 "nbformat": 4,
 "nbformat_minor": 0
}