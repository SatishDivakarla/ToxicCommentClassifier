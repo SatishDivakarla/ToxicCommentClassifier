{
 "cells": [
  {
   "cell_type": "code",
   "execution_count": 1,
   "metadata": {},
   "outputs": [
    {
     "name": "stderr",
     "output_type": "stream",
     "text": [
      "Using TensorFlow backend.\n"
     ]
    }
   ],
   "source": [
    "from keras.layers import Dense, Embedding, Input, GlobalMaxPool1D, GlobalAveragePooling1D, concatenate, Reshape\n",
    "from keras.layers import Bidirectional, Dropout, CuDNNGRU, GRU\n",
    "from keras.models import Model\n",
    "from keras.optimizers import RMSprop\n",
    "import pandas as pd\n",
    "from toxic.nltk_utils import tokenize_sentences\n",
    "from toxic.embedding_utils import read_embedding_list, clear_embedding_list, convert_tokens_to_ids\n",
    "from toxic.nltk_utils import clean\n",
    "\n",
    "import numpy as np"
   ]
  },
  {
   "cell_type": "code",
   "execution_count": 2,
   "metadata": {
    "collapsed": true
   },
   "outputs": [],
   "source": [
    "UNKNOWN_WORD = \"_UNK_\"\n",
    "END_WORD = \"_END_\"\n",
    "NAN_WORD = \"_NAN_\"\n",
    "\n",
    "CLASSES = [\"toxic\", \"severe_toxic\", \"obscene\", \"threat\", \"insult\", \"identity_hate\"]\n",
    "\n",
    "PROBABILITIES_NORMALIZE_COEFFICIENT = 1.4"
   ]
  },
  {
   "cell_type": "code",
   "execution_count": 3,
   "metadata": {},
   "outputs": [
    {
     "name": "stdout",
     "output_type": "stream",
     "text": [
      "Loading data...\n"
     ]
    }
   ],
   "source": [
    "train_file_path = \"train.csv\"\n",
    "test_file_path = \"test.csv\"\n",
    "embedding_path = \"crawl-300d-2M.vec\"\n",
    "print(\"Loading data...\")\n",
    "train_data = pd.read_csv(train_file_path)\n",
    "test_data = pd.read_csv(test_file_path)\n",
    "\n",
    "# train_data['comment_text'] = train_data.apply(lambda x: clean(x.comment_text), axis=1)\n",
    "# train_data['comment_text'] = train_data.apply(lambda x: clean(x.comment_text), axis=1)\n",
    "\n",
    "list_sentences_train = train_data[\"comment_text\"].fillna(NAN_WORD).values\n",
    "list_sentences_test = test_data[\"comment_text\"].fillna(NAN_WORD).values\n",
    "y_train = train_data[CLASSES].values"
   ]
  },
  {
   "cell_type": "code",
   "execution_count": 4,
   "metadata": {},
   "outputs": [
    {
     "name": "stdout",
     "output_type": "stream",
     "text": [
      "Total comments =  159571\n",
      "Total clean comments =  143346\n",
      "Total tags = 35098\n"
     ]
    }
   ],
   "source": [
    "#marking comments without any tags as \"clean\"\n",
    "rowsums=train_data.iloc[:,2:8].sum(axis=1)\n",
    "train_data['clean']=(rowsums==0)\n",
    "#count number of clean entries\n",
    "train_data['clean'].sum()\n",
    "print(\"Total comments = \",len(train_data))\n",
    "print(\"Total clean comments = \",train_data['clean'].sum())\n",
    "print(\"Total tags =\",rowsums.sum())\n"
   ]
  },
  {
   "cell_type": "code",
   "execution_count": null,
   "metadata": {},
   "outputs": [
    {
     "name": "stderr",
     "output_type": "stream",
     "text": [
      "  0%|          | 95/159571 [00:00<02:48, 945.95it/s]"
     ]
    },
    {
     "name": "stdout",
     "output_type": "stream",
     "text": [
      "Tokenizing sentences in train set...\n"
     ]
    },
    {
     "name": "stderr",
     "output_type": "stream",
     "text": [
      "100%|██████████| 159571/159571 [2:20:04<00:00, 18.99it/s]  \n",
      "  0%|          | 140/153164 [00:00<01:49, 1394.11it/s]"
     ]
    },
    {
     "name": "stdout",
     "output_type": "stream",
     "text": [
      "Tokenizing sentences in test set...\n"
     ]
    },
    {
     "name": "stderr",
     "output_type": "stream",
     "text": [
      "100%|██████████| 153164/153164 [01:48<00:00, 1417.52it/s]\n"
     ]
    }
   ],
   "source": [
    "print(\"Tokenizing sentences in train set...\")\n",
    "tokenized_sentences_train, words_dict = tokenize_sentences(list_sentences_train, {})\n",
    "\n",
    "print(\"Tokenizing sentences in test set...\")\n",
    "tokenized_sentences_test, words_dict = tokenize_sentences(list_sentences_test, words_dict)"
   ]
  },
  {
   "cell_type": "code",
   "execution_count": null,
   "metadata": {},
   "outputs": [
    {
     "name": "stdout",
     "output_type": "stream",
     "text": [
      "crawl-300d-2M.vec\n",
      "Loading embeddings...\n"
     ]
    }
   ],
   "source": [
    "print(embedding_path)\n",
    "words_dict[UNKNOWN_WORD] = len(words_dict)\n",
    "\n",
    "print(\"Loading embeddings...\")\n",
    "embedding_list, embedding_word_dict = read_embedding_list(file_path=embedding_path)\n",
    "embedding_size = len(embedding_list[0])"
   ]
  },
  {
   "cell_type": "code",
   "execution_count": null,
   "metadata": {},
   "outputs": [],
   "source": [
    "import numpy as np\n",
    "print(\"Preparing data...\")\n",
    "embedding_list, embedding_word_dict = clear_embedding_list(embedding_list, embedding_word_dict, words_dict)\n",
    "\n",
    "embedding_word_dict[UNKNOWN_WORD] = len(embedding_word_dict)\n",
    "embedding_list.append([0.] * embedding_size)\n",
    "embedding_word_dict[END_WORD] = len(embedding_word_dict)\n",
    "embedding_list.append([-1.] * embedding_size)\n",
    "\n",
    "embedding_matrix = np.array(embedding_list)\n",
    "print(embedding_matrix.shape)"
   ]
  },
  {
   "cell_type": "code",
   "execution_count": null,
   "metadata": {},
   "outputs": [],
   "source": [
    "print(embedding_matrix.shape)"
   ]
  },
  {
   "cell_type": "code",
   "execution_count": null,
   "metadata": {
    "collapsed": true
   },
   "outputs": [],
   "source": [
    "# embedding_matrix = np.load(\"embedding_matrix.npy\")"
   ]
  },
  {
   "cell_type": "code",
   "execution_count": null,
   "metadata": {},
   "outputs": [],
   "source": [
    "from keras.backend import manual_variable_initialization\n",
    "manual_variable_initialization(True)\n",
    "\n"
   ]
  },
  {
   "cell_type": "code",
   "execution_count": null,
   "metadata": {},
   "outputs": [],
   "source": [
    "# Variables for the model\n",
    "sequence_length = 500\n",
    "result_path = \"toxic_results\"\n",
    "batch_size = 256\n",
    "sentences_length = 500\n",
    "recurrent_units=64\n",
    "dropout_rate = 0.3\n",
    "dense_size=32\n",
    "fold_count=10\n",
    "\n",
    "\n",
    "# Model Architecture\n",
    "input_layer = Input(shape=(sequence_length,))\n",
    "embedding_layer = Embedding(embedding_matrix.shape[0], embedding_matrix.shape[1],\n",
    "                            weights=[embedding_matrix], trainable=False)(input_layer)\n",
    "x = Bidirectional(GRU(recurrent_units, reset_after=True, recurrent_activation='sigmoid', return_sequences=True))(embedding_layer)\n",
    "x = Dropout(dropout_rate)(x)\n",
    "x = Bidirectional(GRU(recurrent_units, reset_after=True,  recurrent_activation='sigmoid', return_sequences=True))(x)\n",
    "x_max = GlobalMaxPool1D()(x)\n",
    "x_avg = GlobalAveragePooling1D()(x)\n",
    "x = concatenate([x_max, x_avg])\n",
    "output_layer = Dense(6, activation=\"sigmoid\")(x)\n",
    "model = Model(inputs=input_layer, outputs=output_layer)\n",
    "model.compile(loss='binary_crossentropy', optimizer=RMSprop(clipvalue=1, clipnorm=1), metrics=['accuracy'])\n",
    "\n",
    "#     input_layer = Input(shape=(sequence_length,))\n",
    "#     embedding_layer = Embedding(embedding_matrix.shape[0], embedding_matrix.shape[1],\n",
    "#                                 weights=[embedding_matrix], trainable=False)(input_layer)\n",
    "#     x = Bidirectional(CuDNNGRU(recurrent_units, return_sequences=True))(embedding_layer)\n",
    "#     x = Dropout(dropout_rate)(x)\n",
    "#     x = Bidirectional(CuDNNGRU(recurrent_units, return_sequences=True))(x)\n",
    "#     x_max = GlobalMaxPool1D()(x)\n",
    "#     x_avg = GlobalAveragePooling1D()(x)\n",
    "#     x = concatenate([x_max, x_avg])\n",
    "#     # x = Dense(dense_size, activation=\"relu\")(x)\n",
    "#     output_layer = Dense(6, activation=\"sigmoid\")(x)\n",
    "#     model = Model(inputs=input_layer, outputs=output_layer)\n",
    "#     model.compile(loss='binary_crossentropy', optimizer=RMSprop(clipvalue=1, clipnorm=1), metrics=['accuracy'])\n"
   ]
  },
  {
   "cell_type": "code",
   "execution_count": null,
   "metadata": {},
   "outputs": [],
   "source": [
    "model.summary()"
   ]
  },
  {
   "cell_type": "code",
   "execution_count": null,
   "metadata": {
    "collapsed": true
   },
   "outputs": [],
   "source": [
    "#model.save_weights(\"model{0}_weights.h5\".format(1))"
   ]
  },
  {
   "cell_type": "code",
   "execution_count": null,
   "metadata": {
    "collapsed": true
   },
   "outputs": [],
   "source": [
    "#model_0_weights = np.load(\"toxic_results/model0_weights.npy\")"
   ]
  },
  {
   "cell_type": "code",
   "execution_count": null,
   "metadata": {},
   "outputs": [],
   "source": [
    "model.load_weights(\"model0_weights.h5\")"
   ]
  },
  {
   "cell_type": "code",
   "execution_count": null,
   "metadata": {},
   "outputs": [],
   "source": [
    "model.get_weights()[0].shape"
   ]
  },
  {
   "cell_type": "code",
   "execution_count": null,
   "metadata": {
    "collapsed": true
   },
   "outputs": [],
   "source": [
    "comment_text = \"Yo bitch Ja Rule is more succesful then you'll ever be whats up with you and hating you sad mofuckas...i should bitch slap ur pethedic white faces and get you to kiss my ass you guys sicken me. Ja rule is about pride in da music man. dont diss that shit on him. and nothin is wrong bein like tupac he was a brother too...fuckin white boys get things right next time.\""
   ]
  },
  {
   "cell_type": "code",
   "execution_count": null,
   "metadata": {},
   "outputs": [],
   "source": [
    "list_texts_to_predict= []\n",
    "list_texts_to_predict.append(comment_text)"
   ]
  },
  {
   "cell_type": "code",
   "execution_count": null,
   "metadata": {},
   "outputs": [],
   "source": [
    "tokenized_sentences_test, words_dict = tokenize_sentences(list_texts_to_predict, words_dict)"
   ]
  },
  {
   "cell_type": "code",
   "execution_count": null,
   "metadata": {
    "collapsed": true
   },
   "outputs": [],
   "source": [
    "id_to_word = dict((id, word) for word, id in words_dict.items())\n",
    "test_list_of_token_ids = convert_tokens_to_ids(\n",
    "    tokenized_sentences_test,\n",
    "    id_to_word,\n",
    "    embedding_word_dict,\n",
    "    sequence_length)\n",
    "X_test = np.array(test_list_of_token_ids)"
   ]
  },
  {
   "cell_type": "code",
   "execution_count": null,
   "metadata": {},
   "outputs": [],
   "source": [
    "test_predicts_list = []\n",
    "for i  in range(0,10):\n",
    "    print(\"model{0}_weights.h5\".format(i))\n",
    "    model.load_weights(\"model{0}_weights.h5\".format(i))\n",
    "    test_predicts = model.predict(X_test, batch_size=1)\n",
    "    print(test_predicts)\n",
    "    test_predicts_list.append(test_predicts)"
   ]
  },
  {
   "cell_type": "code",
   "execution_count": null,
   "metadata": {},
   "outputs": [],
   "source": [
    "print(test_predicts_list)"
   ]
  },
  {
   "cell_type": "code",
   "execution_count": null,
   "metadata": {},
   "outputs": [],
   "source": [
    "test_predicts = np.ones(test_predicts_list[0].shape)\n",
    "for fold_predict in test_predicts_list:\n",
    "    test_predicts *= fold_predict\n",
    "    \n",
    "test_predicts **= (1. / len(test_predicts_list))\n",
    "print(test_predicts)\n",
    "print(PROBABILITIES_NORMALIZE_COEFFICIENT)\n",
    "test_predicts **= PROBABILITIES_NORMALIZE_COEFFICIENT\n",
    "print(test_predicts)\n"
   ]
  },
  {
   "cell_type": "code",
   "execution_count": null,
   "metadata": {},
   "outputs": [],
   "source": [
    "print(test_predicts)"
   ]
  },
  {
   "cell_type": "code",
   "execution_count": null,
   "metadata": {
    "collapsed": true
   },
   "outputs": [],
   "source": []
  }
 ],
 "metadata": {
  "kernelspec": {
   "display_name": "Python 3",
   "language": "python",
   "name": "python3"
  },
  "language_info": {
   "codemirror_mode": {
    "name": "ipython",
    "version": 3
   },
   "file_extension": ".py",
   "mimetype": "text/x-python",
   "name": "python",
   "nbconvert_exporter": "python",
   "pygments_lexer": "ipython3",
   "version": "3.5.4"
  }
 },
 "nbformat": 4,
 "nbformat_minor": 2
}
