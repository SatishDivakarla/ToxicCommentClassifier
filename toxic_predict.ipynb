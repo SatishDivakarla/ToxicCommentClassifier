{
 "cells": [
  {
   "cell_type": "code",
   "execution_count": 1,
   "metadata": {},
   "outputs": [
    {
     "name": "stderr",
     "output_type": "stream",
     "text": [
      "Using TensorFlow backend.\n"
     ]
    }
   ],
   "source": [
    "from keras.layers import Dense, Embedding, Input, GlobalMaxPool1D, GlobalAveragePooling1D, concatenate, Reshape\n",
    "from keras.layers import Bidirectional, Dropout, CuDNNGRU, GRU\n",
    "from keras.models import Model\n",
    "from keras.optimizers import RMSprop\n",
    "import pandas as pd\n",
    "from toxic.nltk_utils import tokenize_sentences\n",
    "from toxic.embedding_utils import read_embedding_list, clear_embedding_list, convert_tokens_to_ids\n",
    "from toxic.nltk_utils import clean\n",
    "\n",
    "import numpy as np"
   ]
  },
  {
   "cell_type": "code",
   "execution_count": 2,
   "metadata": {
    "collapsed": true
   },
   "outputs": [],
   "source": [
    "UNKNOWN_WORD = \"_UNK_\"\n",
    "END_WORD = \"_END_\"\n",
    "NAN_WORD = \"_NAN_\"\n",
    "\n",
    "CLASSES = [\"toxic\", \"severe_toxic\", \"obscene\", \"threat\", \"insult\", \"identity_hate\"]\n",
    "\n",
    "PROBABILITIES_NORMALIZE_COEFFICIENT = 1.4"
   ]
  },
  {
   "cell_type": "code",
   "execution_count": 3,
   "metadata": {},
   "outputs": [
    {
     "name": "stdout",
     "output_type": "stream",
     "text": [
      "Loading data...\n"
     ]
    }
   ],
   "source": [
    "train_file_path = \"train.csv\"\n",
    "test_file_path = \"test.csv\"\n",
    "embedding_path = \"crawl-300d-2M.vec\"\n",
    "print(\"Loading data...\")\n",
    "train_data = pd.read_csv(train_file_path)\n",
    "test_data = pd.read_csv(test_file_path)\n",
    "\n",
    "# train_data['comment_text'] = train_data.apply(lambda x: clean(x.comment_text), axis=1)\n",
    "# train_data['comment_text'] = train_data.apply(lambda x: clean(x.comment_text), axis=1)\n",
    "\n",
    "list_sentences_train = train_data[\"comment_text\"].fillna(NAN_WORD).values\n",
    "list_sentences_test = test_data[\"comment_text\"].fillna(NAN_WORD).values\n",
    "y_train = train_data[CLASSES].values"
   ]
  },
  {
   "cell_type": "code",
   "execution_count": 4,
   "metadata": {},
   "outputs": [
    {
     "name": "stdout",
     "output_type": "stream",
     "text": [
      "Total comments =  159571\n",
      "Total clean comments =  143346\n",
      "Total tags = 35098\n"
     ]
    }
   ],
   "source": [
    "#marking comments without any tags as \"clean\"\n",
    "rowsums=train_data.iloc[:,2:8].sum(axis=1)\n",
    "train_data['clean']=(rowsums==0)\n",
    "#count number of clean entries\n",
    "train_data['clean'].sum()\n",
    "print(\"Total comments = \",len(train_data))\n",
    "print(\"Total clean comments = \",train_data['clean'].sum())\n",
    "print(\"Total tags =\",rowsums.sum())\n"
   ]
  },
  {
   "cell_type": "code",
   "execution_count": 5,
   "metadata": {},
   "outputs": [
    {
     "name": "stderr",
     "output_type": "stream",
     "text": [
      "  0%|          | 107/159571 [00:00<02:29, 1063.21it/s]"
     ]
    },
    {
     "name": "stdout",
     "output_type": "stream",
     "text": [
      "Tokenizing sentences in train set...\n"
     ]
    },
    {
     "name": "stderr",
     "output_type": "stream",
     "text": [
      "100%|██████████| 159571/159571 [01:56<00:00, 1366.49it/s]\n",
      "  0%|          | 143/153164 [00:00<01:47, 1428.95it/s]"
     ]
    },
    {
     "name": "stdout",
     "output_type": "stream",
     "text": [
      "Tokenizing sentences in test set...\n"
     ]
    },
    {
     "name": "stderr",
     "output_type": "stream",
     "text": [
      "100%|██████████| 153164/153164 [01:42<00:00, 1488.13it/s]\n"
     ]
    }
   ],
   "source": [
    "print(\"Tokenizing sentences in train set...\")\n",
    "tokenized_sentences_train, words_dict = tokenize_sentences(list_sentences_train, {})\n",
    "\n",
    "print(\"Tokenizing sentences in test set...\")\n",
    "tokenized_sentences_test, words_dict = tokenize_sentences(list_sentences_test, words_dict)"
   ]
  },
  {
   "cell_type": "code",
   "execution_count": 6,
   "metadata": {},
   "outputs": [
    {
     "name": "stdout",
     "output_type": "stream",
     "text": [
      "crawl-300d-2M.vec\n",
      "Loading embeddings...\n"
     ]
    },
    {
     "name": "stderr",
     "output_type": "stream",
     "text": [
      "100%|██████████| 1999999/1999999 [03:22<00:00, 9888.98it/s] \n"
     ]
    }
   ],
   "source": [
    "print(embedding_path)\n",
    "words_dict[UNKNOWN_WORD] = len(words_dict)\n",
    "\n",
    "print(\"Loading embeddings...\")\n",
    "embedding_list, embedding_word_dict = read_embedding_list(file_path=embedding_path)\n",
    "embedding_size = len(embedding_list[0])"
   ]
  },
  {
   "cell_type": "code",
   "execution_count": 7,
   "metadata": {},
   "outputs": [
    {
     "name": "stdout",
     "output_type": "stream",
     "text": [
      "Preparing data...\n",
      "(170075, 300)\n"
     ]
    }
   ],
   "source": [
    "import numpy as np\n",
    "print(\"Preparing data...\")\n",
    "embedding_list, embedding_word_dict = clear_embedding_list(embedding_list, embedding_word_dict, words_dict)\n",
    "\n",
    "embedding_word_dict[UNKNOWN_WORD] = len(embedding_word_dict)\n",
    "embedding_list.append([0.] * embedding_size)\n",
    "embedding_word_dict[END_WORD] = len(embedding_word_dict)\n",
    "embedding_list.append([-1.] * embedding_size)\n",
    "\n",
    "embedding_matrix = np.array(embedding_list)\n",
    "print(embedding_matrix.shape)"
   ]
  },
  {
   "cell_type": "code",
   "execution_count": 8,
   "metadata": {},
   "outputs": [
    {
     "name": "stdout",
     "output_type": "stream",
     "text": [
      "(170075, 300)\n"
     ]
    }
   ],
   "source": [
    "print(embedding_matrix.shape)"
   ]
  },
  {
   "cell_type": "code",
   "execution_count": 9,
   "metadata": {
    "collapsed": true
   },
   "outputs": [],
   "source": [
    "# embedding_matrix = np.load(\"embedding_matrix.npy\")"
   ]
  },
  {
   "cell_type": "code",
   "execution_count": 10,
   "metadata": {},
   "outputs": [],
   "source": [
    "# from keras.backend import manual_variable_initialization\n",
    "# manual_variable_initialization(True)\n",
    "\n"
   ]
  },
  {
   "cell_type": "code",
   "execution_count": 11,
   "metadata": {},
   "outputs": [],
   "source": [
    "# Variables for the model\n",
    "sequence_length = 500\n",
    "result_path = \"toxic_results\"\n",
    "batch_size = 256\n",
    "sentences_length = 500\n",
    "recurrent_units=64\n",
    "dropout_rate = 0.3\n",
    "dense_size=32\n",
    "fold_count=10\n",
    "\n",
    "\n",
    "# Model Architecture\n",
    "input_layer = Input(shape=(sequence_length,))\n",
    "embedding_layer = Embedding(embedding_matrix.shape[0], embedding_matrix.shape[1],\n",
    "                            weights=[embedding_matrix], trainable=False)(input_layer)\n",
    "x = Bidirectional(GRU(recurrent_units, reset_after=True, recurrent_activation='sigmoid', return_sequences=True))(embedding_layer)\n",
    "x = Dropout(dropout_rate)(x)\n",
    "x = Bidirectional(GRU(recurrent_units, reset_after=True,  recurrent_activation='sigmoid', return_sequences=True))(x)\n",
    "x_max = GlobalMaxPool1D()(x)\n",
    "x_avg = GlobalAveragePooling1D()(x)\n",
    "x = concatenate([x_max, x_avg])\n",
    "output_layer = Dense(6, activation=\"sigmoid\")(x)\n",
    "model = Model(inputs=input_layer, outputs=output_layer)\n",
    "model.compile(loss='binary_crossentropy', optimizer=RMSprop(clipvalue=1, clipnorm=1), metrics=['accuracy'])\n",
    "\n"
   ]
  },
  {
   "cell_type": "code",
   "execution_count": 12,
   "metadata": {},
   "outputs": [
    {
     "name": "stdout",
     "output_type": "stream",
     "text": [
      "__________________________________________________________________________________________________\n",
      "Layer (type)                    Output Shape         Param #     Connected to                     \n",
      "==================================================================================================\n",
      "input_1 (InputLayer)            (None, 500)          0                                            \n",
      "__________________________________________________________________________________________________\n",
      "embedding_1 (Embedding)         (None, 500, 300)     51022500    input_1[0][0]                    \n",
      "__________________________________________________________________________________________________\n",
      "bidirectional_1 (Bidirectional) (None, 500, 128)     140544      embedding_1[0][0]                \n",
      "__________________________________________________________________________________________________\n",
      "dropout_1 (Dropout)             (None, 500, 128)     0           bidirectional_1[0][0]            \n",
      "__________________________________________________________________________________________________\n",
      "bidirectional_2 (Bidirectional) (None, 500, 128)     74496       dropout_1[0][0]                  \n",
      "__________________________________________________________________________________________________\n",
      "global_max_pooling1d_1 (GlobalM (None, 128)          0           bidirectional_2[0][0]            \n",
      "__________________________________________________________________________________________________\n",
      "global_average_pooling1d_1 (Glo (None, 128)          0           bidirectional_2[0][0]            \n",
      "__________________________________________________________________________________________________\n",
      "concatenate_1 (Concatenate)     (None, 256)          0           global_max_pooling1d_1[0][0]     \n",
      "                                                                 global_average_pooling1d_1[0][0] \n",
      "__________________________________________________________________________________________________\n",
      "dense_1 (Dense)                 (None, 6)            1542        concatenate_1[0][0]              \n",
      "==================================================================================================\n",
      "Total params: 51,239,082\n",
      "Trainable params: 216,582\n",
      "Non-trainable params: 51,022,500\n",
      "__________________________________________________________________________________________________\n"
     ]
    }
   ],
   "source": [
    "model.summary()"
   ]
  },
  {
   "cell_type": "code",
   "execution_count": 13,
   "metadata": {
    "collapsed": true
   },
   "outputs": [],
   "source": [
    "#model.save_weights(\"model{0}_weights.h5\".format(1))"
   ]
  },
  {
   "cell_type": "code",
   "execution_count": 14,
   "metadata": {
    "collapsed": true
   },
   "outputs": [],
   "source": [
    "#model_0_weights = np.load(\"toxic_results/model0_weights.npy\")"
   ]
  },
  {
   "cell_type": "code",
   "execution_count": 15,
   "metadata": {},
   "outputs": [],
   "source": [
    "# model.load_weights(\"model0_weights.h5\")"
   ]
  },
  {
   "cell_type": "code",
   "execution_count": 16,
   "metadata": {},
   "outputs": [],
   "source": [
    "# model.get_weights()[0].shape"
   ]
  },
  {
   "cell_type": "code",
   "execution_count": 33,
   "metadata": {
    "collapsed": true
   },
   "outputs": [],
   "source": []
  },
  {
   "cell_type": "code",
   "execution_count": 34,
   "metadata": {},
   "outputs": [],
   "source": [
    "list_texts_to_predict= []\n",
    "list_texts_to_predict.append(comment_text)"
   ]
  },
  {
   "cell_type": "code",
   "execution_count": 35,
   "metadata": {},
   "outputs": [
    {
     "name": "stderr",
     "output_type": "stream",
     "text": [
      "100%|██████████| 1/1 [00:00<00:00, 2880.70it/s]\n"
     ]
    }
   ],
   "source": [
    "tokenized_sentences_test, words_dict = tokenize_sentences(list_texts_to_predict, words_dict)"
   ]
  },
  {
   "cell_type": "code",
   "execution_count": 36,
   "metadata": {
    "collapsed": true
   },
   "outputs": [],
   "source": [
    "id_to_word = dict((id, word) for word, id in words_dict.items())\n",
    "test_list_of_token_ids = convert_tokens_to_ids(\n",
    "    tokenized_sentences_test,\n",
    "    id_to_word,\n",
    "    embedding_word_dict,\n",
    "    sequence_length)\n",
    "X_test = np.array(test_list_of_token_ids)"
   ]
  },
  {
   "cell_type": "code",
   "execution_count": 37,
   "metadata": {},
   "outputs": [
    {
     "name": "stdout",
     "output_type": "stream",
     "text": [
      "model0_weights.h5\n",
      "(2, -1)\n",
      "(2, -1)\n",
      "(2, -1)\n",
      "(2, -1)\n",
      "[[  4.10551578e-02   9.42347324e-05   1.00320845e-03   3.91074136e-05\n",
      "    3.98289226e-03   2.10573824e-04]]\n",
      "model1_weights.h5\n",
      "(2, -1)\n",
      "(2, -1)\n",
      "(2, -1)\n",
      "(2, -1)\n",
      "[[  1.36008877e-02   1.17192816e-04   7.66469224e-04   9.32302646e-05\n",
      "    8.31047015e-04   1.80955089e-04]]\n",
      "model2_weights.h5\n",
      "(2, -1)\n",
      "(2, -1)\n",
      "(2, -1)\n",
      "(2, -1)\n",
      "[[  3.18567678e-02   7.89816040e-05   5.09556092e-04   1.11715170e-04\n",
      "    5.41921193e-03   1.85749421e-04]]\n",
      "model3_weights.h5\n",
      "(2, -1)\n",
      "(2, -1)\n",
      "(2, -1)\n",
      "(2, -1)\n",
      "[[  1.92193948e-02   9.65333602e-05   6.85599749e-04   6.28872222e-05\n",
      "    1.41573511e-03   2.23680225e-04]]\n",
      "model4_weights.h5\n",
      "(2, -1)\n",
      "(2, -1)\n",
      "(2, -1)\n",
      "(2, -1)\n",
      "[[  2.73008998e-02   8.54976897e-05   1.68198301e-03   2.88858919e-05\n",
      "    3.35144438e-03   6.40737591e-04]]\n",
      "model5_weights.h5\n",
      "(2, -1)\n",
      "(2, -1)\n",
      "(2, -1)\n",
      "(2, -1)\n",
      "[[  1.52591150e-02   3.25870169e-05   2.95840029e-04   2.21366508e-06\n",
      "    8.16736545e-04   8.80024018e-05]]\n",
      "model6_weights.h5\n",
      "(2, -1)\n",
      "(2, -1)\n",
      "(2, -1)\n",
      "(2, -1)\n",
      "[[  4.20477204e-02   9.99281256e-05   2.26802984e-03   1.09087523e-04\n",
      "    5.08441078e-03   2.12198123e-04]]\n",
      "model7_weights.h5\n",
      "(2, -1)\n",
      "(2, -1)\n",
      "(2, -1)\n",
      "(2, -1)\n",
      "[[  4.70151938e-03   4.25672988e-05   3.42022366e-04   8.40709527e-06\n",
      "    8.35897925e-04   1.31676468e-04]]\n",
      "model8_weights.h5\n",
      "(2, -1)\n",
      "(2, -1)\n",
      "(2, -1)\n",
      "(2, -1)\n",
      "[[  2.53440700e-02   1.09400353e-04   5.35090279e-04   6.80703306e-05\n",
      "    1.89257995e-03   1.99754460e-04]]\n",
      "model9_weights.h5\n",
      "(2, -1)\n",
      "(2, -1)\n",
      "(2, -1)\n",
      "(2, -1)\n",
      "[[  3.46039645e-02   9.89306063e-05   3.53480689e-04   1.69298564e-05\n",
      "    8.76957551e-04   3.03356384e-04]]\n"
     ]
    }
   ],
   "source": [
    "test_predicts_list = []\n",
    "for i  in range(0,10):\n",
    "    print(\"model{0}_weights.h5\".format(i))\n",
    "    model.load_weights(\"model{0}_weights.h5\".format(i))\n",
    "    test_predicts = model.predict(X_test, batch_size=1)\n",
    "    print(test_predicts)\n",
    "    test_predicts_list.append(test_predicts)"
   ]
  },
  {
   "cell_type": "code",
   "execution_count": 38,
   "metadata": {},
   "outputs": [
    {
     "name": "stdout",
     "output_type": "stream",
     "text": [
      "[array([[  4.10551578e-02,   9.42347324e-05,   1.00320845e-03,\n",
      "          3.91074136e-05,   3.98289226e-03,   2.10573824e-04]], dtype=float32), array([[  1.36008877e-02,   1.17192816e-04,   7.66469224e-04,\n",
      "          9.32302646e-05,   8.31047015e-04,   1.80955089e-04]], dtype=float32), array([[  3.18567678e-02,   7.89816040e-05,   5.09556092e-04,\n",
      "          1.11715170e-04,   5.41921193e-03,   1.85749421e-04]], dtype=float32), array([[  1.92193948e-02,   9.65333602e-05,   6.85599749e-04,\n",
      "          6.28872222e-05,   1.41573511e-03,   2.23680225e-04]], dtype=float32), array([[  2.73008998e-02,   8.54976897e-05,   1.68198301e-03,\n",
      "          2.88858919e-05,   3.35144438e-03,   6.40737591e-04]], dtype=float32), array([[  1.52591150e-02,   3.25870169e-05,   2.95840029e-04,\n",
      "          2.21366508e-06,   8.16736545e-04,   8.80024018e-05]], dtype=float32), array([[  4.20477204e-02,   9.99281256e-05,   2.26802984e-03,\n",
      "          1.09087523e-04,   5.08441078e-03,   2.12198123e-04]], dtype=float32), array([[  4.70151938e-03,   4.25672988e-05,   3.42022366e-04,\n",
      "          8.40709527e-06,   8.35897925e-04,   1.31676468e-04]], dtype=float32), array([[  2.53440700e-02,   1.09400353e-04,   5.35090279e-04,\n",
      "          6.80703306e-05,   1.89257995e-03,   1.99754460e-04]], dtype=float32), array([[  3.46039645e-02,   9.89306063e-05,   3.53480689e-04,\n",
      "          1.69298564e-05,   8.76957551e-04,   3.03356384e-04]], dtype=float32)]\n"
     ]
    }
   ],
   "source": [
    "print(test_predicts_list)"
   ]
  },
  {
   "cell_type": "code",
   "execution_count": 39,
   "metadata": {},
   "outputs": [
    {
     "name": "stdout",
     "output_type": "stream",
     "text": [
      "[[  2.18401975e-02   8.00465756e-05   6.74920022e-04   3.34065822e-05\n",
      "    1.85801107e-03   2.07941145e-04]]\n",
      "1.4\n",
      "[[  4.73106795e-03   1.83941558e-06   3.63875853e-05   5.41208817e-07\n",
      "    1.50199199e-04   7.00029920e-06]]\n"
     ]
    }
   ],
   "source": [
    "test_predicts = np.ones(test_predicts_list[0].shape)\n",
    "for fold_predict in test_predicts_list:\n",
    "    test_predicts *= fold_predict\n",
    "    \n",
    "test_predicts **= (1. / len(test_predicts_list))\n",
    "print(test_predicts)\n",
    "print(PROBABILITIES_NORMALIZE_COEFFICIENT)\n",
    "test_predicts **= PROBABILITIES_NORMALIZE_COEFFICIENT\n",
    "print(test_predicts)\n"
   ]
  },
  {
   "cell_type": "code",
   "execution_count": 40,
   "metadata": {},
   "outputs": [
    {
     "name": "stdout",
     "output_type": "stream",
     "text": [
      "[[  4.73106795e-03   1.83941558e-06   3.63875853e-05   5.41208817e-07\n",
      "    1.50199199e-04   7.00029920e-06]]\n"
     ]
    }
   ],
   "source": [
    "print(test_predicts)"
   ]
  },
  {
   "cell_type": "code",
   "execution_count": null,
   "metadata": {
    "collapsed": true
   },
   "outputs": [],
   "source": []
  }
 ],
 "metadata": {
  "kernelspec": {
   "display_name": "Python 3",
   "language": "python",
   "name": "python3"
  },
  "language_info": {
   "codemirror_mode": {
    "name": "ipython",
    "version": 3
   },
   "file_extension": ".py",
   "mimetype": "text/x-python",
   "name": "python",
   "nbconvert_exporter": "python",
   "pygments_lexer": "ipython3",
   "version": "3.5.4"
  }
 },
 "nbformat": 4,
 "nbformat_minor": 2
}
